{
 "cells": [
  {
   "cell_type": "markdown",
   "id": "d31343d2",
   "metadata": {},
   "source": [
    "# **Lab 01 - Operations with Strings and Languages**\n",
    "\n",
    "## **1. Introduction**\n",
    "In this laboratory, we explore fundamental operations with strings and languages in Python. We analyze key concepts such as string manipulation, concatenation, inversion, prefixes, suffixes, and operations with formal languages.\n"
   ]
  },
  {
   "cell_type": "markdown",
   "id": "20661dff",
   "metadata": {},
   "source": [
    "## **2. Abstract**\n",
    "This work aims to implement and analyze various operations with strings and languages in Python. Basic operations such as comparison and inversion of strings will be carried out, as well as advanced operations with languages, including concatenation, exponentiation, and complements. Additionally, possible errors and conclusions based on the obtained results will be discussed.\n"
   ]
  },
  {
   "cell_type": "markdown",
   "id": "4622bec3",
   "metadata": {},
   "source": [
    "## **3. Practical Development**\n",
    "\n",
    "### **Exercise 1: String Analysis**  \n",
    "**Objective:** Read two strings and analyze their properties.  \n"
   ]
  },
  {
   "cell_type": "code",
   "execution_count": null,
   "id": "3a76b2aa",
   "metadata": {},
   "outputs": [],
   "source": [
    "# Input data\n",
    "cadena_1 = input(\"Enter the first string: \")\n",
    "cadena_2 = input(\"Enter the second string: \")\n",
    "\n",
    "# Content analysis\n",
    "contains = cadena_1 in cadena_2\n",
    "equal = cadena_1 == cadena_2\n",
    "\n",
    "# String lengths\n",
    "length_1 = len(cadena_1)\n",
    "length_2 = len(cadena_2)\n",
    "\n",
    "# String inversion\n",
    "reversed_1 = cadena_1[::-1]\n",
    "reversed_2 = cadena_2[::-1]\n",
    "\n",
    "# Expression (((cadena_1)I)2((cadena_2)3)I)I\n",
    "expression = ((reversed_1 * 2) + (reversed_2 * 3))[::-1]\n",
    "\n",
    "# Prefixes and suffixes\n",
    "def prefixes(string):\n",
    "    return [string[:i] for i in range(1, len(string) + 1)]\n",
    "\n",
    "def suffixes(string):\n",
    "    return [string[i:] for i in range(len(string))]\n",
    "\n",
    "# Print results\n",
    "print(f\"String 1: {cadena_1}\")\n",
    "print(f\"String 2: {cadena_2}\")\n",
    "print(f\"Is String 1 contained in String 2?: {'Yes' if contains else 'No'}\")\n",
    "print(f\"Are they equal?: {'Yes' if equal else 'No'}\")\n",
    "print(f\"Length of String 1: {length_1}\")\n",
    "print(f\"Length of String 2: {length_2}\")\n",
    "print(f\"Reversed String 1: {reversed_1}\")\n",
    "print(f\"Reversed String 2: {reversed_2}\")\n",
    "print(f\"Expression result: {expression}\")\n",
    "print(f\"Prefixes of String 1: {prefixes(cadena_1)}\")\n",
    "print(f\"Suffixes of String 1: {suffixes(cadena_1)}\")\n",
    "print(f\"Prefixes of String 2: {prefixes(cadena_2)}\")\n",
    "print(f\"Suffixes of String 2: {suffixes(cadena_2)}\")\n"
   ]
  },
  {
   "cell_type": "markdown",
   "id": "a7b488ad",
   "metadata": {},
   "source": [
    "### **Exercise 2: Creating Languages A and B**  \n",
    "**Objective:** Read two sets of strings and define two languages.  \n"
   ]
  },
  {
   "cell_type": "code",
   "execution_count": null,
   "id": "448cbfc1",
   "metadata": {},
   "outputs": [],
   "source": [
    "n = int(input(\"Enter the number of strings in language A: \"))\n",
    "lA = [input(f\"String {i+1} of A: \") for i in range(n)]\n",
    "\n",
    "m = int(input(\"Enter the number of strings in language B: \"))\n",
    "lB = [input(f\"String {i+1} of B: \") for i in range(m)]\n",
    "\n",
    "print(\"Language A:\", lA)\n",
    "print(\"Language B:\", lB)\n"
   ]
  },
  {
   "cell_type": "markdown",
   "id": "aa282280",
   "metadata": {},
   "source": [
    "## **4. Sources of Error**  \n",
    "Some potential errors in this practice include:  \n",
    "- Incorrect data input, such as unexpected characters in strings.  \n",
    "- Use of inadequate alphabets affecting language operations.  \n",
    "- Logical errors in function implementations for language operations.  \n",
    "- Performance issues when handling large sets of strings.  \n"
   ]
  },
  {
   "cell_type": "markdown",
   "id": "16f4aa77",
   "metadata": {},
   "source": [
    "## **5. Conclusions**  \n",
    "- String manipulation is fundamental for language processing.  \n",
    "- Operations such as concatenation and exponentiation follow systematic rules.  \n",
    "- Implementing set operations like intersection and complement provides insight into formal languages.  \n",
    "- Understanding string operations enhances computational problem-solving skills.  \n"
   ]
  }
 ],
 "metadata": {},
 "nbformat": 4,
 "nbformat_minor": 5
}